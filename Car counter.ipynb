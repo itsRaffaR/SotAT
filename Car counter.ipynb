{
 "cells": [
  {
   "cell_type": "markdown",
   "metadata": {},
   "source": [
    "# State of the Art Technology - Prototype 1"
   ]
  },
  {
   "cell_type": "code",
   "execution_count": 1,
   "metadata": {},
   "outputs": [],
   "source": [
    "#Imports\n",
    "import cv2\n",
    "import time\n",
    "import numpy as np"
   ]
  },
  {
   "cell_type": "code",
   "execution_count": 3,
   "metadata": {},
   "outputs": [],
   "source": [
    "kernel = np.ones((5,5),np.uint8)\n",
    "vidCap = cv2.VideoCapture('/Users/raffaelenardi/Documents/GITHUB/State of the Art Technology/Long_road_edit.mov')\n",
    "\n",
    "# initilize OpenCV - Background Subtractor for KNN and MOG2\n",
    "BS_KNN = cv2.createBackgroundSubtractorKNN(history=5000, dist2Threshold=2000.0,detectShadows= False)\n",
    "\n",
    "cars = 0 # Count value\n",
    "validcars = [] # Container for x and y variables\n",
    "while vidCap.isOpened():\n",
    "    ret, frame = vidCap.read() # loops through frames\n",
    "\n",
    "    # Extract the foreground mask using KNN\n",
    "    fgMask = BS_KNN.apply(frame)\n",
    "#     cv2.morphologyEx(fgMask, cv2.MORPH_CLOSE, kernel) # clean of contours (add solid fill inside)\n",
    "    ret,thresh1 = cv2.threshold(fgMask,127,255,cv2.THRESH_BINARY)\n",
    "\n",
    "# Draw line for counts\n",
    "    cv2.line(frame,(475,380),(690,355),(0,0,255),2) # Red line to denote area we want to count\n",
    "    cv2.rectangle(frame,(270,280),(750,600),(255,0,0),2) # Region of interst (ROI)\n",
    "\n",
    "    # Extract the contours\n",
    "    conts, _ = cv2.findContours(fgMask, cv2.RETR_EXTERNAL, cv2.CHAIN_APPROX_SIMPLE)\n",
    "    \n",
    "    for c in conts: # creating bounding rectangles for contours (moving cars)\n",
    "        x, y, w, h = cv2.boundingRect(c)\n",
    "        \n",
    "        # ignore the small contours in size (noise)\n",
    "        visiblecar = (w > 60) and (h > 60)\n",
    "        if not visiblecar:\n",
    "            continue\n",
    "        \n",
    "        # remove the distraction on the road; consider only the objects on ROAD\n",
    "        if x > 270 and x < 750 and y > 280 and y < 600:\n",
    "            # draw the bounding rectangle for all contours\n",
    "            cv2.rectangle(frame, (x,y), (x+w, y+h), (0,255,0), 2)\n",
    "            xMid = int((x + (x+w))/2)\n",
    "            yMid = int((y + (y+h))/2)\n",
    "            cv2.circle(frame, (xMid,yMid),5,(0,0,255),10)\n",
    "\n",
    "            # add all valid cars into List Array\n",
    "            validcars.append((xMid,yMid))\n",
    "\n",
    "            for (vX, vY) in validcars:\n",
    "                if vY == 381 and vX < 680: # detection where number is added to counted cars total\n",
    "                    cars += 1\n",
    "                    validcars.remove((vX,vY))\n",
    "                    \n",
    "                #debugging purpose\n",
    "                cv2.putText(frame, 'Y : {}'.format(yMid), (xMid, y-20), cv2.FONT_HERSHEY_PLAIN, 2, (255,255,255), 2)\n",
    "                cv2.putText(frame, 'X : {}'.format(xMid), (xMid, y-50), cv2.FONT_HERSHEY_PLAIN, 2, (255,255,255), 2)\n",
    "                cv2.putText(frame, 'w : {}'.format(w), (xMid-150, y-20), cv2.FONT_HERSHEY_PLAIN, 2, (255,255,255), 2)\n",
    "                cv2.putText(frame, 'h : {}'.format(h), (xMid-150, y-50), cv2.FONT_HERSHEY_PLAIN, 2, (255,255,255), 2)\n",
    "\n",
    "                \n",
    "    # show the thresh and original video\n",
    "    cv2.imshow('Foreground Mask', fgMask)\n",
    "    cv2.putText(frame, 'Total cars : {}'.format(cars), (290, 590), cv2.FONT_HERSHEY_PLAIN, 2, (0,0,255), 2)\n",
    "    cv2.imshow('Original Video', frame)\n",
    "    \n",
    "    # wait for any key to be pressedq\n",
    "    if cv2.waitKey(10) & 0xFF == ord('q'):\n",
    "        break\n",
    "\n",
    "# release video capture\n",
    "cv2.destroyAllWindows()\n",
    "vidCap.release()"
   ]
  },
  {
   "cell_type": "markdown",
   "metadata": {},
   "source": [
    "# Complications\n",
    "\n",
    "### Technology Issues\n",
    "- Breaks when two cars are too close together, registers them as a single entity and then fails because its outside ROI\n",
    "- Issues with using y value as trigger for count because it can be a little jumpy as contour recognition happens\n",
    "- Sometimes the car does not pass through Y = 380, the trigger value\n",
    "- Probably need an AI smart enough to pick cars apart\n",
    "\n",
    "### Human issues\n",
    "- Not created for the complexity of human movement.\n",
    "    - Doesn't take into account issues with people stopping in the middle of the round about.\n",
    "    - People tailgating messes with detection\n",
    "- Manual set up required for new detection areas. Change of line where count is made and ROI.\n",
    "\n"
   ]
  },
  {
   "cell_type": "markdown",
   "metadata": {},
   "source": [
    "## Ideas\n",
    "- Create a method of tracking point before it crosses the threshold value if point increases past y value and is within x range then add to counter. Check https://medium.com/machine-learning-world/tutorial-making-road-traffic-counting-app-based-on-computer-vision-and-opencv-166937911660 for ideas."
   ]
  },
  {
   "cell_type": "markdown",
   "metadata": {},
   "source": [
    "## Thoughts\n",
    "\n",
    "- Relfect on exploitablity as a concept\n",
    "- Reflect on what you want to achieve with this. What human values does this satisfy/not satisfy.\n",
    "\n",
    "- Other Human values\n",
    "    - Cant provide the human benefit without better technological accuracy\n",
    "    - Accessibility and empowerment \n",
    "        - Ease of use of the ouput\n",
    "        - Affordability of applying technology (just a camera and a laptop!)\n",
    "   \n",
    "    - Collaboration\n",
    "    \n",
    "- Google Collaborate - Free GPU\n",
    "- Keras - Deep learning you can use already trained models (we will do this)"
   ]
  },
  {
   "cell_type": "code",
   "execution_count": null,
   "metadata": {},
   "outputs": [],
   "source": []
  }
 ],
 "metadata": {
  "kernelspec": {
   "display_name": "Python 3",
   "language": "python",
   "name": "python3"
  },
  "language_info": {
   "codemirror_mode": {
    "name": "ipython",
    "version": 3
   },
   "file_extension": ".py",
   "mimetype": "text/x-python",
   "name": "python",
   "nbconvert_exporter": "python",
   "pygments_lexer": "ipython3",
   "version": "3.7.6"
  }
 },
 "nbformat": 4,
 "nbformat_minor": 4
}
